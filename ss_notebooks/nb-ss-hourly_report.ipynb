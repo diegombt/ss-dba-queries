{
    "metadata": {
        "kernelspec": {
            "name": "powershell",
            "display_name": "PowerShell",
            "language": "powershell"
        },
        "language_info": {
            "name": "powershell",
            "codemirror_mode": "shell",
            "mimetype": "text/x-sh",
            "file_extension": ".ps1"
        }
    },
    "nbformat_minor": 2,
    "nbformat": 4,
    "cells": [
        {
            "cell_type": "markdown",
            "source": [
                "**General variables**"
            ],
            "metadata": {
                "language": "powershell",
                "azdata_cell_guid": "2069e3be-cebb-4ccd-b889-6463958f4594"
            },
            "attachments": {}
        },
        {
            "cell_type": "code",
            "source": [
                "$servers = Get-DbaRegServer -SqlInstance vmpfrancia | Select-Object -Unique -ExpandProperty ServerName\r\n",
                "$listener = Get-DbaRegServer -SqlInstance vmpfrancia -Group \"Always On AG\\Listener\" | Select-Object -Unique -ExpandProperty ServerName\r\n",
                "\r\n",
                "$folderName = \"\\DbatoolsExport\\HourlyReport\"\r\n",
                "$Documents = [Environment]::GetFolderPath(\"MyDocuments\")\r\n",
                "$DestFolder = $Documents+$folderName\r\n",
                "\r\n",
                "if (!(Test-Path $DestFolder)) {\r\n",
                "    New-Item -itemType Directory -Path $Documents -Name $FolderName\r\n",
                "}"
            ],
            "metadata": {
                "azdata_cell_guid": "2d1f937d-b32b-4862-8ee3-9c9c959c66ba",
                "language": "powershell",
                "tags": []
            },
            "outputs": [],
            "execution_count": null
        },
        {
            "cell_type": "markdown",
            "source": [
                "**CPU Usage**"
            ],
            "metadata": {
                "language": "powershell",
                "azdata_cell_guid": "f4eedce7-e652-4d36-b464-bb880c3146b4"
            },
            "attachments": {}
        },
        {
            "cell_type": "code",
            "source": [
                "$cpu_ringbuffer = Get-DbaCpuRingBuffer -SqlInstance $servers -CollectionMinutes 240 | Select-Object * | ConvertTo-DbaDataTable\r\n",
                "$cpu_ringbuffer | Export-Csv -Path $DestFolder\"\\cpu_ringbuffer.csv\" -NoTypeInformation"
            ],
            "metadata": {
                "azdata_cell_guid": "4548b973-693e-43de-9689-2aeb0cb62ec6",
                "language": "powershell",
                "tags": []
            },
            "outputs": [],
            "execution_count": null
        },
        {
            "cell_type": "markdown",
            "source": [
                "**Memory Status**"
            ],
            "metadata": {
                "language": "powershell",
                "azdata_cell_guid": "67187f6f-ee05-435f-99c6-ceb0d840760c"
            },
            "attachments": {}
        },
        {
            "cell_type": "code",
            "source": [
                "#$memoryStatus = Get-DbaDbccMemoryStatus -SqlInstance localhost | Where-Object {$_.Type -eq 'Process/System Counts'} | ConvertTo-DbaDataTable\r\n",
                "$query = 'select @@SERVERNAME, (physical_memory_in_use_kb/1024) Phy_Memory_usedby_Sqlserver_MB, (locked_page_allocations_kb/1024) Locked_pages_used_Sqlserver_MB, (virtual_address_space_committed_kb/1024) Total_Memory_UsedBySQLServer_MB, process_physical_memory_low, process_virtual_memory_low from sys.dm_os_process_memory'\r\n",
                "$memoryStatus = Invoke-DbaQuery -SqlInstance $servers -Query $query | ConvertTo-DbaDataTable\r\n",
                "$memoryStatus | Export-Csv -Path $DestFolder\"\\memory_status.csv\" -NoTypeInformation"
            ],
            "metadata": {
                "language": "powershell",
                "azdata_cell_guid": "4b748541-f8ae-4f9c-859e-97a1a9836bc1"
            },
            "outputs": [],
            "execution_count": null
        },
        {
            "cell_type": "markdown",
            "source": [
                "**Disk Performance**"
            ],
            "metadata": {
                "language": "powershell",
                "azdata_cell_guid": "815c5106-52c9-44df-94ea-8f08ace1cb6c"
            },
            "attachments": {}
        },
        {
            "cell_type": "code",
            "source": [
                "$DiskSpeed = Test-DbaDiskSpeed -SqlInstance $servers -AggregateBy 'Database' | Select-Object * | ConvertTo-DbaDataTable\r\n",
                "$DiskSpeed | Export-Csv -Path $DestFolder\"\\disk_speed.csv\" -NoTypeInformation"
            ],
            "metadata": {
                "azdata_cell_guid": "118bf95d-14ed-4d05-b122-6b8f68faaf08",
                "language": "powershell",
                "tags": []
            },
            "outputs": [],
            "execution_count": null
        },
        {
            "cell_type": "markdown",
            "source": [
                "**Availability Groups**"
            ],
            "metadata": {
                "language": "powershell",
                "azdata_cell_guid": "7ffc59d4-f913-42d4-8c22-65d6c8c11072"
            },
            "attachments": {}
        },
        {
            "cell_type": "code",
            "source": [
                "$AGState = Get-DbaAgReplica -SqlInstance $listener | Select-Object -Unique SqlInstance, AvailabilityGroup, Replica, ConnectionState, AvailabilityMode, FailoverMode, Role | ConvertTo-DbaDataTable\r\n",
                "$AGState | Export-Csv -Path $DestFolder\"\\ag_state.csv\" -NoTypeInformation"
            ],
            "metadata": {
                "language": "powershell",
                "azdata_cell_guid": "6acb15b0-0303-42aa-b61f-3cfa2f04a40e",
                "tags": []
            },
            "outputs": [],
            "execution_count": null
        },
        {
            "cell_type": "markdown",
            "source": [
                "**Mirroring**"
            ],
            "metadata": {
                "language": "powershell",
                "azdata_cell_guid": "df3c4926-6360-443d-b4c3-b2e0341c65fa"
            },
            "attachments": {}
        },
        {
            "cell_type": "code",
            "source": [
                "$Mirroring = Get-DbaRegisteredServer -SqlInstance vmpfrancia -Group MIRROR | Get-DbaDbMirror | Select-Object SqlInstance, Name, MirroringStatus, MirroringPartnerInstance | ConvertTo-DbaDataTable\r\n",
                "$Mirroring | Export-Csv -Path $DestFolder\"\\mirroring.csv\" -NoTypeInformation"
            ],
            "metadata": {
                "azdata_cell_guid": "68ffe943-39c1-4f39-bf84-58ba949abb2a",
                "language": "powershell"
            },
            "outputs": [],
            "execution_count": null
        },
        {
            "cell_type": "markdown",
            "source": [
                "**Suspect Pages**"
            ],
            "metadata": {
                "language": "powershell",
                "azdata_cell_guid": "f5446f7c-78ba-4d1a-8a95-7c290a5039c9"
            }
        },
        {
            "cell_type": "code",
            "source": [
                "$SuspectPages = Get-DbaSuspectPage -SqlInstance $servers\r\n",
                "$SuspectPages | Export-Csv -Path $DestFolder\"\\suspect_pages.csv\" -NoTypeInformation"
            ],
            "metadata": {
                "azdata_cell_guid": "1b4a3f03-0e75-442e-bc11-996a9fe2b543",
                "language": "powershell"
            },
            "outputs": [],
            "execution_count": null
        }
    ]
}