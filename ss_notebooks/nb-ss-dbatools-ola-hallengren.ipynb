{
    "metadata": {
        "kernelspec": {
            "name": "powershell",
            "display_name": "PowerShell"
        },
        "language_info": {
            "name": "powershell",
            "codemirror_mode": "shell",
            "mimetype": "text/x-sh",
            "file_extension": ".ps1"
        }
    },
    "nbformat_minor": 2,
    "nbformat": 4,
    "cells": [
        {
            "cell_type": "markdown",
            "source": [
                "# DBA Tools & Ola Hallengren\r\n",
                "\r\n",
                "## Install Ola's maintenance scripts from web to _localhost_ SQL Server"
            ],
            "metadata": {
                "azdata_cell_guid": "b291bd61-0302-4308-88c6-150ab069cc47"
            }
        },
        {
            "cell_type": "code",
            "source": [
                "$params = @{\r\n",
                "    SqlInstance = 'localhost'                   # Login to the target instance using alternative credentials\r\n",
                "    Database = 'BDMONITOREO'                    # The database where Ola Hallengren's solution will be installed. Defaults to master. \r\n",
                "    ReplaceExisting = $true                     # If this switch is enabled, objects already present in the target database will be dropped and recreated.\r\n",
                "    InstallJobs = $false                        # If this switch is enabled, the corresponding SQL Agent Jobs will be created.\r\n",
                "    LogToTable = $false                         # If this switch is enabled, the Maintenance Solution will be configured to log commands to a table.\r\n",
                "    BackupLocation = 'D:\\Backups SQL Server'    # Location of the backup root directory. If this is not supplied, the default backup directory will be used.\r\n",
                "    # CleanupTime = 96                          # Use this parameter when you install jobs. Time in hours, after which backup files are deleted.\r\n",
                "    Verbose = $true\r\n",
                "}\r\n",
                "Install-DbaMaintenanceSolution @params"
            ],
            "metadata": {
                "azdata_cell_guid": "ebcbb02d-30eb-435a-8ee0-65ba5f862ed8"
            },
            "outputs": [],
            "execution_count": null
        },
        {
            "cell_type": "markdown",
            "source": [
                "## Create a backup for each user database over multiple servers\r\n",
                "You can put multiple SQL Server instances into _Servers_ variable\r\n",
                "\r\n",
                "- @Directory → Define destination folder for backup files\r\n",
                "- @BackupType → Define backup type, you can use {FULL, DIFF, LOG}\r\n",
                "- @Verify → Verifies the backup but does not restore it, and checks to see that the backup set is complete and the entire backup is readable. [Verify Only](https://docs.microsoft.com/en-us/sql/t-sql/statements/restore-statements-verifyonly-transact-sql)\r\n",
                "- @Compress → Use compression on backup files\r\n",
                "- @CheckSum → Validate database file integrity. If errors are found **the backup process fails**.\r\n",
                "- @CopyOnly → Enable copy only backups\r\n",
                "- @CleanupTime → Delete old database backups (measured in hours)"
            ],
            "metadata": {
                "azdata_cell_guid": "0e983155-6407-4ae2-927d-809fb028df16"
            }
        },
        {
            "cell_type": "code",
            "source": [
                "$servers = 'localhost', 'localhost\\sonder'\r\n",
                "$servers | Invoke-DbaQuery -Query 'EXECUTE bdmonitoreo.dbo.DatabaseBackup\r\n",
                "           @Databases = ''USER_DATABASES''\r\n",
                "          ,@Directory = ''D:\\Backups SQL Server''\r\n",
                "          ,@BackupType = ''FULL''\r\n",
                "          ,@Verify = ''Y''\r\n",
                "          ,@Compress = ''Y''\r\n",
                "          ,@CheckSum = ''Y''\r\n",
                "          ,@CopyOnly = ''Y''\r\n",
                "          ,@CleanupTime = 72'"
            ],
            "metadata": {
                "azdata_cell_guid": "8068a89e-0503-466c-adad-c6bbfd4cb51f",
                "tags": []
            },
            "outputs": [],
            "execution_count": null
        }
    ]
}