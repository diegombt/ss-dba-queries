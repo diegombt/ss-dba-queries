{
    "metadata": {
        "kernelspec": {
            "name": "powershell",
            "display_name": "PowerShell"
        },
        "language_info": {
            "name": "powershell",
            "codemirror_mode": "shell",
            "mimetype": "text/x-sh",
            "file_extension": ".ps1"
        }
    },
    "nbformat_minor": 2,
    "nbformat": 4,
    "cells": [
        {
            "cell_type": "markdown",
            "source": [
                "# DBATools\r\n",
                "\r\n",
                "## Instalación Offline\r\n",
                "Estos son los pasos que se pueden utilizar para instalar la herramienta\r\n",
                "1. Descargar la herramienta desde [Github](https://github.com/sqlcollaborative/dbatools/tree/master) como **zip** en el repositorio oficial, o desde [este enlace](https://powershellgallery.com/api/v2/package/dbatools) donde se debe cambiar la extensión *nupk* por *zip*\r\n",
                "2. En PowerShell (PS) ejecutar el siguiente comando:\r\n",
                " > $env:PSModulePath -split \";\"\r\n",
                "3. Extraer el archivo descargado y pegarlo en alguna de las rutas anteriormente indicadas\r\n",
                "4. Como administrador en PowerShell, des-habilitar el uso restringido de ejecución de paquetes:\r\n",
                " > Set-ExecutionPolicy Unrestricted\r\n",
                "5. Desbloquear el uso de las DLLs que se utilizan en el paquete con el siguiente comando (reemplazar)\r\n",
                " > Get-ChildItem -Recurse \"C:\\ruta_donde\\quedo_el_paquete\\dbatools\" | Unblock-File\r\n",
                "6. Importar el modulo con el comando:\r\n",
                " > Import-Module \"C:\\ruta_donde\\quedo_el_paquete\\dbatools\"\r\n",
                "\r\n",
                "Para información adicional [ver este enlace](https://dbatools.io/getting-started/) \r\n",
                ""
            ],
            "metadata": {
                "azdata_cell_guid": "2365e204-58ac-4e4c-817f-fad77ada1d45"
            }
        }
    ]
}