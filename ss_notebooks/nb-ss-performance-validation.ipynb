{
    "metadata": {
        "kernelspec": {
            "name": "SQL",
            "display_name": "SQL",
            "language": "sql"
        },
        "language_info": {
            "name": "sql",
            "version": ""
        }
    },
    "nbformat_minor": 2,
    "nbformat": 4,
    "cells": [
        {
            "cell_type": "markdown",
            "source": [
                "# Transacciones activas ~ Adam Machanic/SP_WhoIsActive\r\n",
                "\r\n",
                "Muestra las tareas que actualmente se encuentran en ejecución.\r\n",
                "\r\n",
                "> Mas información en → http://whoisactive.com/docs/"
            ],
            "metadata": {
                "azdata_cell_guid": "bc86767d-45d2-47c9-93d9-fa5b696cfc73"
            }
        },
        {
            "cell_type": "code",
            "source": [
                "exec sp_WhoIsActive \r\n",
                "     @get_transaction_info = 1            -- Enables pulling transaction log write info and transaction duration\r\n",
                "    ,@get_outer_command = 1               -- Get the associated outer ad hoc query or stored procedure call, if available\r\n",
                "    ,@get_plans = 1                       -- Get associated query plans for running tasks, if available"
            ],
            "metadata": {
                "azdata_cell_guid": "8ca5468f-0d24-4983-a945-17b335165069",
                "tags": [
                    "hide_input"
                ],
                "language": "sql"
            },
            "outputs": [],
            "execution_count": null
        },
        {
            "cell_type": "markdown",
            "source": [
                "# Evaluación de desempeño en tiempo real ~ Brent Ozar/SP_BlitzFirst\r\n",
                "\r\n",
                "Toma dos muestras con información del estado del servidor y las compara, buscando diagnosticar cualquier problema de desempeño que se pueda estar presentando\r\n",
                "\r\n",
                "> Más información en → https://bit.ly/3arz8lo"
            ],
            "metadata": {
                "azdata_cell_guid": "e7a33986-42c5-478e-8f57-5f23b86e7994"
            }
        },
        {
            "cell_type": "code",
            "source": [
                "exec sp_blitzfirst \r\n",
                "\t @Seconds = 10                        -- Change if you need more time space for analysis\r\n",
                "    ,@CheckServerInfo = 1                 -- Disable if you don't need additional server information\r\n",
                "    ,@ExpertMode = 1                      -- For extra diagnistic information\r\n",
                "    -- ,@ShowSleepingSPIDs = 1            -- Shows long-running sleeping queries that might be blocking others\r\n",
                "    -- ,@CheckProcedureCache = 1          -- Analyzes execution plans based on query cache\r\n",
                "go"
            ],
            "metadata": {
                "azdata_cell_guid": "a50a2194-d304-4c54-a3c7-933cd6a7ecee",
                "tags": [
                    "hide_input"
                ],
                "language": "sql"
            },
            "outputs": [],
            "execution_count": null
        },
        {
            "cell_type": "markdown",
            "source": [
                "# Analizar cache de planes de ejecución ~ Brent Ozar/SP_BlitzCache\r\n",
                "\r\n",
                "\r\n",
                "Organiza las consultas recientemente ejecutadas basándose en el impacto que han tenido en la instancia\r\n",
                "\r\n",
                "> Más información en → https://bit.ly/2WWV9EL"
            ],
            "metadata": {
                "azdata_cell_guid": "fd42705c-b993-4cbc-9b5b-ab9160ed74d8"
            }
        },
        {
            "cell_type": "code",
            "source": [
                "exec sp_blitzcache\r\n",
                "     @Top = 10                              -- Show TOP querys\r\n",
                "    -- ,@ExpertMode = 1                     -- Enable expert mode for advanced information\r\n",
                "    -- ,@IgnoreSystemDBs = 1                -- Analyze system databases\r\n",
                "    -- ,@DatabaseName = 'test'              -- Analyze query cache based on database execution context"
            ],
            "metadata": {
                "azdata_cell_guid": "596cecb6-d3c4-4767-a417-3fe71759123f",
                "tags": [
                    "hide_input"
                ],
                "language": "sql"
            },
            "outputs": [],
            "execution_count": null
        },
        {
            "cell_type": "markdown",
            "source": [
                "# Desempeño de archivos de TempDB\r\n",
                "\r\n",
                "Muestra el desempeño de los archivos de datos de la TempDB\r\n",
                "\r\n",
                "> Para información adicional revisar los datos en /performance/ss-db_file_performance"
            ],
            "metadata": {
                "azdata_cell_guid": "9308a608-42fc-4e33-8fe2-bf209e8dcd4c"
            }
        },
        {
            "cell_type": "code",
            "source": [
                "select files.physical_name\r\n",
                "      ,files.name\r\n",
                "      ,stats.num_of_writes\r\n",
                "      ,(1.0 * stats.io_stall_write_ms / stats.num_of_writes) as avg_write_stall_ms\r\n",
                "      ,stats.num_of_reads\r\n",
                "      ,(1.0 * stats.io_stall_read_ms / stats.num_of_reads) as avg_read_stall_ms\r\n",
                "  from sys.dm_io_virtual_file_stats(2, null) as stats\r\n",
                "  join master.sys.master_files as files\r\n",
                "    on stats.database_id = files.database_id\r\n",
                "   and stats.file_id = files.file_id\r\n",
                " where files.type_desc = 'ROWS'"
            ],
            "metadata": {
                "azdata_cell_guid": "63805d49-fbd8-4f17-b969-2a7bb8f3e0c3",
                "tags": [
                    "hide_input"
                ],
                "language": "sql"
            },
            "outputs": [],
            "execution_count": null
        },
        {
            "cell_type": "markdown",
            "source": [
                "# Desempeño de archivos de datos y log\r\n",
                "\r\n",
                "Muestra el desempeño de los archivos de datos para cada base de datos de la instancia"
            ],
            "metadata": {
                "azdata_cell_guid": "d9fa4613-0b19-4411-9b63-546b8e132efc"
            }
        },
        {
            "cell_type": "code",
            "source": [
                "declare @sysdb int = 0; -- If 1 retrieve system databases information\r\n",
                "select m.name as database_name\r\n",
                "      ,files.physical_name\r\n",
                "\t  ,files.type_desc\r\n",
                "      ,files.name file_name\r\n",
                "      ,stats.num_of_writes\r\n",
                "      ,case when stats.io_stall_write_ms <> 0 then (1.0 * stats.io_stall_write_ms / stats.num_of_writes) end as avg_write_stall_ms\r\n",
                "      ,stats.num_of_reads\r\n",
                "      ,case when stats.io_stall_read_ms <> 0 then (1.0 * stats.io_stall_read_ms / stats.num_of_reads) end as avg_read_stall_ms\r\n",
                "  from sys.dm_io_virtual_file_stats(NULL, NULL) as stats\r\n",
                "  join master.sys.master_files as files\r\n",
                "    on stats.database_id = files.database_id\r\n",
                "   and stats.file_id = files.file_id\r\n",
                "  join master.sys.databases m\r\n",
                "    on m.database_id = files.database_id\r\n",
                " where 1=1\r\n",
                "    -- and files.type_desc = 'ROWS'\r\n",
                "   and m.database_id > case when @sysdb = 0 then 4 else 0 end\r\n",
                " order by 1 desc;"
            ],
            "metadata": {
                "azdata_cell_guid": "bfc85d9e-c668-4ca0-b3c7-b418d9d4ce75",
                "tags": [
                    "hide_input"
                ],
                "language": "sql"
            },
            "outputs": [],
            "execution_count": null
        },
        {
            "cell_type": "markdown",
            "source": [
                "# Bloqueos en la instancia ~ Brent Ozar/SP_BlitzLock\r\n",
                "\r\n",
                "Comprueba los LOGs del sistema que capturan Dead Locks, analizando todo el XML para retornar resultados legibles\r\n",
                "\r\n",
                "> Mas información en → https://bit.ly/2K3PAwX"
            ],
            "metadata": {
                "azdata_cell_guid": "e1dbba75-695e-412d-b227-e4809d36556e"
            }
        },
        {
            "cell_type": "code",
            "source": [
                "exec sp_BlitzLock\r\n",
                "\t @Top = 10                            -- Use if you want to limit the number of deadlocks to return. This is ordered by event date ascending\r\n",
                "    -- ,@DatabaseName:                    -- If you want to filter to a specific database\r\n",
                "    -- ,@StartDate:                       -- The date you want to start searching on\r\n",
                "    -- ,@EndDate:                         -- The date you want to stop searching on\r\n",
                "    -- ,@ObjectName:                      -- If you want to filter to a specific table. The object name has to be fully qualified 'Database.Schema.Table'\r\n",
                "    -- ,@StoredProcName:                  -- If you want to search for a single stored procedure. Don't specify a schema or database name - just a stored procedure name alone is all you need, and if it exists in any schema (or multiple schemas), we'll find it\r\n",
                "    -- ,@AppName:                         -- If you want to filter to a specific application\r\n",
                "    -- ,@HostName:                        -- If you want to filter to a specific host\r\n",
                "    -- ,@LoginName:                       -- If you want to filter to a specific login\r\n",
                "    -- ,@EventSessionPath:                -- If you want to point this at an XE session rather than the system health session\r\n",
                "go"
            ],
            "metadata": {
                "azdata_cell_guid": "abb3df55-c6ae-4602-ac8b-37f95803b2ef",
                "tags": [
                    "hide_input"
                ],
                "language": "sql"
            },
            "outputs": [],
            "execution_count": null
        }
    ]
}