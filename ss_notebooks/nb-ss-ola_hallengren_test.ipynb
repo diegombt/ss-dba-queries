{
    "metadata": {
        "kernelspec": {
            "name": "SQL",
            "display_name": "SQL",
            "language": "sql"
        },
        "language_info": {
            "name": "sql",
            "version": ""
        }
    },
    "nbformat_minor": 2,
    "nbformat": 4,
    "cells": [
        {
            "cell_type": "markdown",
            "source": [
                "# Ola Hallengren\r\n",
                "\r\n",
                " - DBA training needs\r\n",
                " - Install Ola's scripts\r\n",
                "   - Download from GitHub\r\n",
                "   - Download straightforward from [web page](https://ola.hallengren.com)\r\n",
                " - Deploy scripts\r\n",
                "   - Full\r\n",
                "   - SPs only\r\n",
                "   - Log Table\r\n",
                " - Show created objects"
            ],
            "metadata": {
                "azdata_cell_guid": "e461ffd5-80c7-4e35-bf3a-08106287ced7"
            }
        },
        {
            "cell_type": "code",
            "source": [
                "-- Respaldar las BDs de usuario al destino predeterminado y borrar los respaldos antiguos\r\n",
                "EXECUTE bdmonitoreo.dbo.DatabaseBackup\r\n",
                "@Databases = 'USER_DATABASES',\r\n",
                "@BackupType = 'FULL',\r\n",
                "@Compress = 'Y',\r\n",
                "@CheckSum = 'Y',\r\n",
                "@CleanupTime = 0"
            ],
            "metadata": {
                "azdata_cell_guid": "7eca37d1-fae6-489b-bec0-d54a689ca7e3"
            },
            "outputs": [],
            "execution_count": null
        },
        {
            "cell_type": "code",
            "source": [
                "-- Respaldar las BDs de usuario a una ruta en especifico \r\n",
                "EXECUTE bdmonitoreo.dbo.DatabaseBackup\r\n",
                "@Databases = 'USER_DATABASES',\r\n",
                "@Directory = 'D:\\Backups SQL Server\\ruta_especifica',\r\n",
                "@BackupType = 'FULL',\r\n",
                "@Verify = 'Y',\r\n",
                "@CleanupTime = 0"
            ],
            "metadata": {
                "azdata_cell_guid": "70800d68-6aa1-4712-bdf6-6a56f6de6717"
            },
            "outputs": [],
            "execution_count": null
        },
        {
            "cell_type": "code",
            "source": [
                "-- Realizar un respaldo del log de transacciones. Se utiliza la opción de cambiar el tipo de backup si no es posible realizar un respaldo del LOG\r\n",
                "EXECUTE bdmonitoreo.dbo.DatabaseBackup\r\n",
                "@Databases = 'USER_DATABASES',\r\n",
                "@BackupType = 'LOG',\r\n",
                "@ChangeBackupType = 'Y'"
            ],
            "metadata": {
                "azdata_cell_guid": "ed52fb15-da68-49fa-bc62-ceb93920a05d"
            },
            "outputs": [],
            "execution_count": null
        },
        {
            "cell_type": "code",
            "source": [
                "-- Respaldar las BDs utilizando una estructura diferente a la predeterminada\r\n",
                "EXECUTE bdmonitoreo.dbo.DatabaseBackup\r\n",
                "@Databases = 'USER_DATABASES',\r\n",
                "@BackupType = 'FULL',\r\n",
                "@DirectoryStructure = 'Diego${InstanceName}{DirectorySeparator}{DatabaseName}{DirectorySeparator}{BackupType}_{Partial}_{CopyOnly}',\r\n",
                "@FileName = 'Diego${InstanceName}_{DatabaseName}_{BackupType}_OTRO_NOMBRE_{Partial}_{CopyOnly}_{Year}{Month}{Day}_{Hour}{Minute}{Second}_{FileNumber}.{FileExtension}'"
            ],
            "metadata": {
                "azdata_cell_guid": "5275de40-da60-4177-9923-54c5479dd922"
            },
            "outputs": [],
            "execution_count": null
        },
        {
            "cell_type": "code",
            "source": [
                "-- Respalda las BDs de usuario en la ruta predeterminada\r\n",
                "EXECUTE bdmonitoreo.dbo.DatabaseBackup\r\n",
                "@Databases = 'USER_DATABASES',\r\n",
                "@BackupType = 'FULL',\r\n",
                "@DirectoryStructure = NULL,\r\n",
                "@AvailabilityGroupDirectoryStructure = NULL"
            ],
            "metadata": {
                "azdata_cell_guid": "5dfb933f-1d93-4849-a8e1-44d11898de59",
                "tags": []
            },
            "outputs": [],
            "execution_count": null
        },
        {
            "cell_type": "code",
            "source": [
                "-- Respaldar todas las BDs\r\n",
                "EXECUTE bdmonitoreo.dbo.DatabaseBackup\r\n",
                "@Databases = 'ALL_DATABASES',\r\n",
                "@BackupType = 'FULL'"
            ],
            "metadata": {
                "azdata_cell_guid": "4512948b-a124-497e-aa90-57692b589435",
                "tags": []
            },
            "outputs": [],
            "execution_count": null
        },
        {
            "cell_type": "code",
            "source": [
                "$servers = 'localhost', 'localhost\\sonder'\r\n",
                "\r\n",
                "$servers | Invoke-DbaQuery -Query 'EXECUTE bdmonitoreo.dbo.DatabaseBackup\r\n",
                "           @Databases = ''USER_DATABASES''\r\n",
                "          ,@BackupType = ''FULL''\r\n",
                "          ,@Verify = ''Y''\r\n",
                "          ,@Compress = ''Y''\r\n",
                "          ,@CheckSum = ''Y''\r\n",
                "          ,@CopyOnly = ''N'''"
            ],
            "metadata": {
                "azdata_cell_guid": "1143bdb9-0be2-4524-85fd-305613672c92"
            },
            "outputs": [],
            "execution_count": null
        }
    ]
}